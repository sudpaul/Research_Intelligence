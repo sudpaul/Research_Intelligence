{
 "cells": [
  {
   "cell_type": "code",
   "execution_count": 1,
   "metadata": {},
   "outputs": [],
   "source": [
    "import numpy as np\n",
    "import pandas as pd\n",
    "import UNSW_med_theme as th"
   ]
  },
  {
   "cell_type": "code",
   "execution_count": 2,
   "metadata": {},
   "outputs": [],
   "source": [
    "researchers =[7202158595,55757206600, 7401947506, 57186794800,6603573607, 26643395700]"
   ]
  },
  {
   "cell_type": "code",
   "execution_count": 3,
   "metadata": {},
   "outputs": [],
   "source": [
    "data = th. author_subject_area(researchers)"
   ]
  },
  {
   "cell_type": "code",
   "execution_count": 4,
   "metadata": {},
   "outputs": [
    {
     "data": {
      "text/html": [
       "<div>\n",
       "<style scoped>\n",
       "    .dataframe tbody tr th:only-of-type {\n",
       "        vertical-align: middle;\n",
       "    }\n",
       "\n",
       "    .dataframe tbody tr th {\n",
       "        vertical-align: top;\n",
       "    }\n",
       "\n",
       "    .dataframe thead th {\n",
       "        text-align: right;\n",
       "    }\n",
       "</style>\n",
       "<table border=\"1\" class=\"dataframe\">\n",
       "  <thead>\n",
       "    <tr style=\"text-align: right;\">\n",
       "      <th></th>\n",
       "      <th>SCOPUS_ID</th>\n",
       "      <th>Name</th>\n",
       "      <th>Subjects_area</th>\n",
       "      <th>Result</th>\n",
       "      <th>Main_theme</th>\n",
       "      <th>Alternative_theme</th>\n",
       "    </tr>\n",
       "  </thead>\n",
       "  <tbody>\n",
       "    <tr>\n",
       "      <th>0</th>\n",
       "      <td>7202158595</td>\n",
       "      <td>Michael B. Barton</td>\n",
       "      <td>{'Oncology': 125, 'Cancer Research': 47, 'Radi...</td>\n",
       "      <td>{'Cancer': 183, 'NHMA': 1, 'NCD': 3}</td>\n",
       "      <td>Cancer</td>\n",
       "      <td>NCD</td>\n",
       "    </tr>\n",
       "    <tr>\n",
       "      <th>1</th>\n",
       "      <td>55757206600</td>\n",
       "      <td>David Goldstein</td>\n",
       "      <td>{'Oncology': 127, 'Cancer Research': 80, 'Endo...</td>\n",
       "      <td>{'Cancer': 210, 'Triple I': 15, 'NHMA': 14, 'N...</td>\n",
       "      <td>Cancer</td>\n",
       "      <td>Triple I</td>\n",
       "    </tr>\n",
       "    <tr>\n",
       "      <th>2</th>\n",
       "      <td>7401947506</td>\n",
       "      <td>Phoebe Phillips</td>\n",
       "      <td>{'Oncology': 10, 'Cancer Research': 10, 'Endoc...</td>\n",
       "      <td>{'Cancer': 20, 'Triple I': 8, 'NHMA': 1, 'NCD'...</td>\n",
       "      <td>Cancer</td>\n",
       "      <td>Triple I</td>\n",
       "    </tr>\n",
       "    <tr>\n",
       "      <th>3</th>\n",
       "      <td>57186794800</td>\n",
       "      <td>David M. Thomas</td>\n",
       "      <td>{'Oncology': 78, 'Cancer Research': 49, 'Endoc...</td>\n",
       "      <td>{'Cancer': 127, 'Triple I': 8, 'NHMA': 1, 'NCD...</td>\n",
       "      <td>Cancer</td>\n",
       "      <td>Triple I</td>\n",
       "    </tr>\n",
       "    <tr>\n",
       "      <th>4</th>\n",
       "      <td>6603573607</td>\n",
       "      <td>Claire M. Vajdic</td>\n",
       "      <td>{'Oncology': 48, 'Cancer Research': 44, 'Immun...</td>\n",
       "      <td>{'Cancer': 92, 'Triple I': 28, 'NHMA': 3}</td>\n",
       "      <td>Cancer</td>\n",
       "      <td>Triple I</td>\n",
       "    </tr>\n",
       "  </tbody>\n",
       "</table>\n",
       "</div>"
      ],
      "text/plain": [
       "     SCOPUS_ID               Name  \\\n",
       "0   7202158595  Michael B. Barton   \n",
       "1  55757206600    David Goldstein   \n",
       "2   7401947506    Phoebe Phillips   \n",
       "3  57186794800    David M. Thomas   \n",
       "4   6603573607   Claire M. Vajdic   \n",
       "\n",
       "                                       Subjects_area  \\\n",
       "0  {'Oncology': 125, 'Cancer Research': 47, 'Radi...   \n",
       "1  {'Oncology': 127, 'Cancer Research': 80, 'Endo...   \n",
       "2  {'Oncology': 10, 'Cancer Research': 10, 'Endoc...   \n",
       "3  {'Oncology': 78, 'Cancer Research': 49, 'Endoc...   \n",
       "4  {'Oncology': 48, 'Cancer Research': 44, 'Immun...   \n",
       "\n",
       "                                              Result Main_theme  \\\n",
       "0               {'Cancer': 183, 'NHMA': 1, 'NCD': 3}     Cancer   \n",
       "1  {'Cancer': 210, 'Triple I': 15, 'NHMA': 14, 'N...     Cancer   \n",
       "2  {'Cancer': 20, 'Triple I': 8, 'NHMA': 1, 'NCD'...     Cancer   \n",
       "3  {'Cancer': 127, 'Triple I': 8, 'NHMA': 1, 'NCD...     Cancer   \n",
       "4          {'Cancer': 92, 'Triple I': 28, 'NHMA': 3}     Cancer   \n",
       "\n",
       "  Alternative_theme  \n",
       "0               NCD  \n",
       "1          Triple I  \n",
       "2          Triple I  \n",
       "3          Triple I  \n",
       "4          Triple I  "
      ]
     },
     "execution_count": 4,
     "metadata": {},
     "output_type": "execute_result"
    }
   ],
   "source": [
    "data.head()"
   ]
  },
  {
   "cell_type": "code",
   "execution_count": 5,
   "metadata": {},
   "outputs": [
    {
     "data": {
      "text/plain": [
       "Index(['SCOPUS_ID', 'Name', 'Subjects_area', 'Result', 'Main_theme',\n",
       "       'Alternative_theme'],\n",
       "      dtype='object')"
      ]
     },
     "execution_count": 5,
     "metadata": {},
     "output_type": "execute_result"
    }
   ],
   "source": [
    "data.columns"
   ]
  },
  {
   "cell_type": "code",
   "execution_count": 6,
   "metadata": {},
   "outputs": [
    {
     "data": {
      "text/plain": [
       "6"
      ]
     },
     "execution_count": 6,
     "metadata": {},
     "output_type": "execute_result"
    }
   ],
   "source": [
    "data['SCOPUS_ID'].nunique()"
   ]
  },
  {
   "cell_type": "code",
   "execution_count": 7,
   "metadata": {},
   "outputs": [
    {
     "data": {
      "text/plain": [
       "Cancer    5\n",
       "NHMA      1\n",
       "Name: Main_theme, dtype: int64"
      ]
     },
     "execution_count": 7,
     "metadata": {},
     "output_type": "execute_result"
    }
   ],
   "source": [
    "data['Main_theme'].value_counts()"
   ]
  },
  {
   "cell_type": "code",
   "execution_count": 8,
   "metadata": {},
   "outputs": [
    {
     "data": {
      "text/html": [
       "<div>\n",
       "<style scoped>\n",
       "    .dataframe tbody tr th:only-of-type {\n",
       "        vertical-align: middle;\n",
       "    }\n",
       "\n",
       "    .dataframe tbody tr th {\n",
       "        vertical-align: top;\n",
       "    }\n",
       "\n",
       "    .dataframe thead th {\n",
       "        text-align: right;\n",
       "    }\n",
       "</style>\n",
       "<table border=\"1\" class=\"dataframe\">\n",
       "  <thead>\n",
       "    <tr style=\"text-align: right;\">\n",
       "      <th></th>\n",
       "      <th>SCOPUS_ID</th>\n",
       "      <th>Name</th>\n",
       "      <th>Subjects_area</th>\n",
       "      <th>Result</th>\n",
       "      <th>Main_theme</th>\n",
       "      <th>Alternative_theme</th>\n",
       "    </tr>\n",
       "  </thead>\n",
       "  <tbody>\n",
       "    <tr>\n",
       "      <th>1</th>\n",
       "      <td>55757206600</td>\n",
       "      <td>David Goldstein</td>\n",
       "      <td>{'Oncology': 127, 'Cancer Research': 80, 'Endo...</td>\n",
       "      <td>{'Cancer': 210, 'Triple I': 15, 'NHMA': 14, 'N...</td>\n",
       "      <td>Cancer</td>\n",
       "      <td>Triple I</td>\n",
       "    </tr>\n",
       "    <tr>\n",
       "      <th>2</th>\n",
       "      <td>7401947506</td>\n",
       "      <td>Phoebe Phillips</td>\n",
       "      <td>{'Oncology': 10, 'Cancer Research': 10, 'Endoc...</td>\n",
       "      <td>{'Cancer': 20, 'Triple I': 8, 'NHMA': 1, 'NCD'...</td>\n",
       "      <td>Cancer</td>\n",
       "      <td>Triple I</td>\n",
       "    </tr>\n",
       "    <tr>\n",
       "      <th>3</th>\n",
       "      <td>57186794800</td>\n",
       "      <td>David M. Thomas</td>\n",
       "      <td>{'Oncology': 78, 'Cancer Research': 49, 'Endoc...</td>\n",
       "      <td>{'Cancer': 127, 'Triple I': 8, 'NHMA': 1, 'NCD...</td>\n",
       "      <td>Cancer</td>\n",
       "      <td>Triple I</td>\n",
       "    </tr>\n",
       "    <tr>\n",
       "      <th>4</th>\n",
       "      <td>6603573607</td>\n",
       "      <td>Claire M. Vajdic</td>\n",
       "      <td>{'Oncology': 48, 'Cancer Research': 44, 'Immun...</td>\n",
       "      <td>{'Cancer': 92, 'Triple I': 28, 'NHMA': 3}</td>\n",
       "      <td>Cancer</td>\n",
       "      <td>Triple I</td>\n",
       "    </tr>\n",
       "    <tr>\n",
       "      <th>5</th>\n",
       "      <td>26643395700</td>\n",
       "      <td>Peter W. Gunning</td>\n",
       "      <td>{'Cellular and Molecular Neuroscience': 17, 'C...</td>\n",
       "      <td>{'Cancer': 17, 'Triple I': 9, 'NHMA': 23, 'NCD...</td>\n",
       "      <td>NHMA</td>\n",
       "      <td>Cancer</td>\n",
       "    </tr>\n",
       "  </tbody>\n",
       "</table>\n",
       "</div>"
      ],
      "text/plain": [
       "     SCOPUS_ID              Name  \\\n",
       "1  55757206600   David Goldstein   \n",
       "2   7401947506   Phoebe Phillips   \n",
       "3  57186794800   David M. Thomas   \n",
       "4   6603573607  Claire M. Vajdic   \n",
       "5  26643395700  Peter W. Gunning   \n",
       "\n",
       "                                       Subjects_area  \\\n",
       "1  {'Oncology': 127, 'Cancer Research': 80, 'Endo...   \n",
       "2  {'Oncology': 10, 'Cancer Research': 10, 'Endoc...   \n",
       "3  {'Oncology': 78, 'Cancer Research': 49, 'Endoc...   \n",
       "4  {'Oncology': 48, 'Cancer Research': 44, 'Immun...   \n",
       "5  {'Cellular and Molecular Neuroscience': 17, 'C...   \n",
       "\n",
       "                                              Result Main_theme  \\\n",
       "1  {'Cancer': 210, 'Triple I': 15, 'NHMA': 14, 'N...     Cancer   \n",
       "2  {'Cancer': 20, 'Triple I': 8, 'NHMA': 1, 'NCD'...     Cancer   \n",
       "3  {'Cancer': 127, 'Triple I': 8, 'NHMA': 1, 'NCD...     Cancer   \n",
       "4          {'Cancer': 92, 'Triple I': 28, 'NHMA': 3}     Cancer   \n",
       "5  {'Cancer': 17, 'Triple I': 9, 'NHMA': 23, 'NCD...       NHMA   \n",
       "\n",
       "  Alternative_theme  \n",
       "1          Triple I  \n",
       "2          Triple I  \n",
       "3          Triple I  \n",
       "4          Triple I  \n",
       "5            Cancer  "
      ]
     },
     "execution_count": 8,
     "metadata": {},
     "output_type": "execute_result"
    }
   ],
   "source": [
    "data.tail()"
   ]
  },
  {
   "cell_type": "code",
   "execution_count": 9,
   "metadata": {},
   "outputs": [
    {
     "data": {
      "text/plain": [
       "Triple I    4\n",
       "Cancer      1\n",
       "NCD         1\n",
       "Name: Alternative_theme, dtype: int64"
      ]
     },
     "execution_count": 9,
     "metadata": {},
     "output_type": "execute_result"
    }
   ],
   "source": [
    "data['Alternative_theme'].value_counts()"
   ]
  },
  {
   "cell_type": "code",
   "execution_count": 11,
   "metadata": {},
   "outputs": [
    {
     "data": {
      "text/plain": [
       "0    {'Oncology': 125, 'Cancer Research': 47, 'Radi...\n",
       "1    {'Oncology': 127, 'Cancer Research': 80, 'Endo...\n",
       "2    {'Oncology': 10, 'Cancer Research': 10, 'Endoc...\n",
       "3    {'Oncology': 78, 'Cancer Research': 49, 'Endoc...\n",
       "4    {'Oncology': 48, 'Cancer Research': 44, 'Immun...\n",
       "5    {'Cellular and Molecular Neuroscience': 17, 'C...\n",
       "Name: Subjects_area, dtype: object"
      ]
     },
     "execution_count": 11,
     "metadata": {},
     "output_type": "execute_result"
    }
   ],
   "source": [
    "data['Subjects_area']"
   ]
  },
  {
   "cell_type": "code",
   "execution_count": null,
   "metadata": {},
   "outputs": [],
   "source": []
  },
  {
   "cell_type": "code",
   "execution_count": null,
   "metadata": {},
   "outputs": [],
   "source": []
  }
 ],
 "metadata": {
  "kernelspec": {
   "display_name": "Python 3",
   "language": "python",
   "name": "python3"
  },
  "language_info": {
   "codemirror_mode": {
    "name": "ipython",
    "version": 3
   },
   "file_extension": ".py",
   "mimetype": "text/x-python",
   "name": "python",
   "nbconvert_exporter": "python",
   "pygments_lexer": "ipython3",
   "version": "3.6.5"
  }
 },
 "nbformat": 4,
 "nbformat_minor": 2
}
