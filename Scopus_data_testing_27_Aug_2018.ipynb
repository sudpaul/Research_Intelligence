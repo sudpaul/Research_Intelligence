{
 "cells": [
  {
   "cell_type": "code",
   "execution_count": 13,
   "metadata": {},
   "outputs": [],
   "source": [
    "from scopus_authors_retrive import scopus_author\n",
    "from scopus_authors_retrive import make_dataframe"
   ]
  },
  {
   "cell_type": "markdown",
   "metadata": {},
   "source": [
    "## Retrive author name tuple from SCOUPS database"
   ]
  },
  {
   "cell_type": "code",
   "execution_count": 14,
   "metadata": {},
   "outputs": [],
   "source": [
    "au = scopus_author('15769145500')"
   ]
  },
  {
   "cell_type": "markdown",
   "metadata": {},
   "source": [
    "### Attributes Name"
   ]
  },
  {
   "cell_type": "code",
   "execution_count": 15,
   "metadata": {},
   "outputs": [
    {
     "data": {
      "text/plain": [
       "'Natasa Gisev'"
      ]
     },
     "execution_count": 15,
     "metadata": {},
     "output_type": "execute_result"
    }
   ],
   "source": [
    "au.name"
   ]
  },
  {
   "cell_type": "markdown",
   "metadata": {},
   "source": [
    "### Number of documents by the Author"
   ]
  },
  {
   "cell_type": "code",
   "execution_count": 16,
   "metadata": {},
   "outputs": [
    {
     "data": {
      "text/plain": [
       "30"
      ]
     },
     "execution_count": 16,
     "metadata": {},
     "output_type": "execute_result"
    }
   ],
   "source": [
    "au.ndocuments"
   ]
  },
  {
   "cell_type": "markdown",
   "metadata": {},
   "source": [
    "### Author h-index "
   ]
  },
  {
   "cell_type": "code",
   "execution_count": 18,
   "metadata": {},
   "outputs": [
    {
     "data": {
      "text/plain": [
       "10"
      ]
     },
     "execution_count": 18,
     "metadata": {},
     "output_type": "execute_result"
    }
   ],
   "source": [
    "au.hindex"
   ]
  },
  {
   "cell_type": "markdown",
   "metadata": {},
   "source": [
    "### Author orcid if available otherwise None type"
   ]
  },
  {
   "cell_type": "code",
   "execution_count": 20,
   "metadata": {},
   "outputs": [
    {
     "name": "stdout",
     "output_type": "stream",
     "text": [
      "None\n"
     ]
    }
   ],
   "source": [
    "print(au.orcid)"
   ]
  },
  {
   "cell_type": "markdown",
   "metadata": {},
   "source": [
    "### Author Firstauthorship"
   ]
  },
  {
   "cell_type": "code",
   "execution_count": 21,
   "metadata": {},
   "outputs": [
    {
     "data": {
      "text/plain": [
       "15"
      ]
     },
     "execution_count": 21,
     "metadata": {},
     "output_type": "execute_result"
    }
   ],
   "source": [
    "au.n_first_author_papers()"
   ]
  },
  {
   "cell_type": "markdown",
   "metadata": {},
   "source": [
    "### Author Lastauthorship"
   ]
  },
  {
   "cell_type": "code",
   "execution_count": 22,
   "metadata": {},
   "outputs": [
    {
     "data": {
      "text/plain": [
       "1"
      ]
     },
     "execution_count": 22,
     "metadata": {},
     "output_type": "execute_result"
    }
   ],
   "source": [
    "au.n_last_author_papers()"
   ]
  },
  {
   "cell_type": "markdown",
   "metadata": {},
   "source": [
    "### Author cited publication numbers"
   ]
  },
  {
   "cell_type": "code",
   "execution_count": 25,
   "metadata": {},
   "outputs": [
    {
     "data": {
      "text/plain": [
       "260"
      ]
     },
     "execution_count": 25,
     "metadata": {},
     "output_type": "execute_result"
    }
   ],
   "source": [
    "au.ncited_by"
   ]
  },
  {
   "cell_type": "markdown",
   "metadata": {},
   "source": [
    "### Coauthors name and number"
   ]
  },
  {
   "cell_type": "code",
   "execution_count": 26,
   "metadata": {},
   "outputs": [
    {
     "name": "stdout",
     "output_type": "stream",
     "text": [
      "['Wayne D. Hall', 'Louisa Degenhardt', 'Michael P. Farrell', 'Andrew McLachlan', 'Shane Darke', 'Richard P. Mattick', 'Sirpa A. Hartikainen', 'Fiona Blyth', 'J. Simon Bell', 'Raimondo Bruno', 'Sallie Anne Pearson', 'Timothy F. Chen', 'Nicholas Lintzeris', 'Lucy Burns', 'Elliot C. Nelson', 'Timothy Dobbins', 'Tony Butler', 'Milton L. Cohen', 'Alan Rosen', 'Suzanne N. Nielsen', 'Sarah Larney', 'Maarit Jaana Korhonen', 'Don James Weatherburn', 'Marian D. Shanahan', 'Briony K. Larance', 'Prasad S. Nishtala', 'Jenni Ilomäki', 'Amy Peacock', 'Jo Kimber', 'Amanda D. Roxburgh', 'Fiona L. Shand', 'James Simon Bell', 'Natasa Gisev', 'Manoranjenni Chetty', 'Gabrielle Campbell', 'Anton C. Clifford', \"Claire L. O'Reilly\", 'Amy E. Gibson', 'Bianca Blanch', 'Elena J. Cama', 'Wayne D. Hall', 'Emily A. Karanges', 'Lucinda J. Burns', 'Natali Jokanovic', 'Samanta Lalic', 'Belinda Lloyd', 'Dan I. Lubman', 'Nicholas A. Buckley', 'Bianca Hoban', 'Mikko Korhonen', 'Michael Doyle', 'Megan Williams', 'Samantha Colledge', 'Judy Trevena']\n"
     ]
    }
   ],
   "source": [
    "coauthors = au.get_coauthors()\n",
    "print([a.name for a in coauthors])"
   ]
  },
  {
   "cell_type": "code",
   "execution_count": 27,
   "metadata": {},
   "outputs": [
    {
     "data": {
      "text/plain": [
       "54"
      ]
     },
     "execution_count": 27,
     "metadata": {},
     "output_type": "execute_result"
    }
   ],
   "source": [
    "len(coauthors)"
   ]
  },
  {
   "cell_type": "markdown",
   "metadata": {},
   "source": [
    "### Publication status"
   ]
  },
  {
   "cell_type": "code",
   "execution_count": 29,
   "metadata": {},
   "outputs": [
    {
     "name": "stdout",
     "output_type": "stream",
     "text": [
      "Counter({2018: 7, 2014: 7, 2016: 4, 2015: 4, 2013: 3, 2017: 2, 2012: 1, 2011: 1, 2010: 1, 2009: 1, 2006: 1})\n"
     ]
    }
   ],
   "source": [
    "print(au.n_yearly_publications(refresh=False))"
   ]
  },
  {
   "cell_type": "markdown",
   "metadata": {},
   "source": [
    "## Data test cases for internal and external authors "
   ]
  },
  {
   "cell_type": "code",
   "execution_count": 30,
   "metadata": {},
   "outputs": [],
   "source": [
    "import pandas as pd\n",
    "df = make_dataframe(['15769145500', '15080819600', '7005082840', '22136848800', '9235879800'])"
   ]
  },
  {
   "cell_type": "code",
   "execution_count": 31,
   "metadata": {},
   "outputs": [
    {
     "data": {
      "text/plain": [
       "Index(['SCOPUS_ID', 'name', 'h_index', 'documents_total',\n",
       "       'number_first_author', 'number_last_author', 'total_citing_papers',\n",
       "       'orcid'],\n",
       "      dtype='object')"
      ]
     },
     "execution_count": 31,
     "metadata": {},
     "output_type": "execute_result"
    }
   ],
   "source": [
    "df.columns"
   ]
  },
  {
   "cell_type": "code",
   "execution_count": 32,
   "metadata": {},
   "outputs": [
    {
     "data": {
      "text/html": [
       "<div>\n",
       "<style scoped>\n",
       "    .dataframe tbody tr th:only-of-type {\n",
       "        vertical-align: middle;\n",
       "    }\n",
       "\n",
       "    .dataframe tbody tr th {\n",
       "        vertical-align: top;\n",
       "    }\n",
       "\n",
       "    .dataframe thead th {\n",
       "        text-align: right;\n",
       "    }\n",
       "</style>\n",
       "<table border=\"1\" class=\"dataframe\">\n",
       "  <thead>\n",
       "    <tr style=\"text-align: right;\">\n",
       "      <th></th>\n",
       "      <th>SCOPUS_ID</th>\n",
       "      <th>name</th>\n",
       "      <th>h_index</th>\n",
       "      <th>documents_total</th>\n",
       "      <th>number_first_author</th>\n",
       "      <th>number_last_author</th>\n",
       "      <th>total_citing_papers</th>\n",
       "      <th>orcid</th>\n",
       "    </tr>\n",
       "  </thead>\n",
       "  <tbody>\n",
       "    <tr>\n",
       "      <th>0</th>\n",
       "      <td>15769145500</td>\n",
       "      <td>Natasa Gisev</td>\n",
       "      <td>10</td>\n",
       "      <td>30</td>\n",
       "      <td>15</td>\n",
       "      <td>1</td>\n",
       "      <td>260</td>\n",
       "      <td>None</td>\n",
       "    </tr>\n",
       "    <tr>\n",
       "      <th>1</th>\n",
       "      <td>15080819600</td>\n",
       "      <td>Nicola J. Smith</td>\n",
       "      <td>18</td>\n",
       "      <td>39</td>\n",
       "      <td>10</td>\n",
       "      <td>13</td>\n",
       "      <td>1043</td>\n",
       "      <td>0000-0002-7247-9562</td>\n",
       "    </tr>\n",
       "    <tr>\n",
       "      <th>2</th>\n",
       "      <td>7005082840</td>\n",
       "      <td>C. Raina MaCintyre</td>\n",
       "      <td>0</td>\n",
       "      <td>0</td>\n",
       "      <td>73</td>\n",
       "      <td>131</td>\n",
       "      <td>0</td>\n",
       "      <td>None</td>\n",
       "    </tr>\n",
       "    <tr>\n",
       "      <th>3</th>\n",
       "      <td>22136848800</td>\n",
       "      <td>Blossom Christa Maree Stephan</td>\n",
       "      <td>27</td>\n",
       "      <td>117</td>\n",
       "      <td>25</td>\n",
       "      <td>18</td>\n",
       "      <td>2681</td>\n",
       "      <td>0000-0002-1235-360X</td>\n",
       "    </tr>\n",
       "    <tr>\n",
       "      <th>4</th>\n",
       "      <td>9235879800</td>\n",
       "      <td>Alexander N. Combes</td>\n",
       "      <td>15</td>\n",
       "      <td>35</td>\n",
       "      <td>9</td>\n",
       "      <td>1</td>\n",
       "      <td>821</td>\n",
       "      <td>None</td>\n",
       "    </tr>\n",
       "  </tbody>\n",
       "</table>\n",
       "</div>"
      ],
      "text/plain": [
       "     SCOPUS_ID                           name  h_index  documents_total  \\\n",
       "0  15769145500                   Natasa Gisev       10               30   \n",
       "1  15080819600                Nicola J. Smith       18               39   \n",
       "2   7005082840             C. Raina MaCintyre        0                0   \n",
       "3  22136848800  Blossom Christa Maree Stephan       27              117   \n",
       "4   9235879800            Alexander N. Combes       15               35   \n",
       "\n",
       "   number_first_author  number_last_author  total_citing_papers  \\\n",
       "0                   15                   1                  260   \n",
       "1                   10                  13                 1043   \n",
       "2                   73                 131                    0   \n",
       "3                   25                  18                 2681   \n",
       "4                    9                   1                  821   \n",
       "\n",
       "                 orcid  \n",
       "0                 None  \n",
       "1  0000-0002-7247-9562  \n",
       "2                 None  \n",
       "3  0000-0002-1235-360X  \n",
       "4                 None  "
      ]
     },
     "execution_count": 32,
     "metadata": {},
     "output_type": "execute_result"
    }
   ],
   "source": [
    "df.head()"
   ]
  },
  {
   "cell_type": "code",
   "execution_count": 39,
   "metadata": {},
   "outputs": [],
   "source": [
    "assert type(df) is pd.core.frame.DataFrame, \"Return object should be pandas Dataframe.\""
   ]
  },
  {
   "cell_type": "code",
   "execution_count": 37,
   "metadata": {},
   "outputs": [
    {
     "data": {
      "text/plain": [
       "pandas.core.frame.DataFrame"
      ]
     },
     "execution_count": 37,
     "metadata": {},
     "output_type": "execute_result"
    }
   ],
   "source": [
    "type(df)"
   ]
  },
  {
   "cell_type": "code",
   "execution_count": 40,
   "metadata": {},
   "outputs": [],
   "source": [
    "assert len(df) == 5, \"There are 5 SCOPUS IDS should be in the dataframe\""
   ]
  }
 ],
 "metadata": {
  "kernelspec": {
   "display_name": "Python 3",
   "language": "python",
   "name": "python3"
  },
  "language_info": {
   "codemirror_mode": {
    "name": "ipython",
    "version": 3
   },
   "file_extension": ".py",
   "mimetype": "text/x-python",
   "name": "python",
   "nbconvert_exporter": "python",
   "pygments_lexer": "ipython3",
   "version": "3.6.5"
  }
 },
 "nbformat": 4,
 "nbformat_minor": 2
}
